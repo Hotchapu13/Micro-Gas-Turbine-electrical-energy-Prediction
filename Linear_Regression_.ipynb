{
  "nbformat": 4,
  "nbformat_minor": 0,
  "metadata": {
    "colab": {
      "private_outputs": true,
      "provenance": [],
      "toc_visible": true
    },
    "kernelspec": {
      "name": "python3",
      "display_name": "Python 3"
    },
    "language_info": {
      "name": "python"
    }
  },
  "cells": [
    {
      "cell_type": "markdown",
      "source": [
        "## IMPORTING LIBRARIES"
      ],
      "metadata": {
        "id": "0D2eYNdP6-U6"
      }
    },
    {
      "cell_type": "code",
      "execution_count": null,
      "metadata": {
        "id": "cbFmbDN3x2Xg"
      },
      "outputs": [],
      "source": [
        "import pandas as pd\n",
        "import matplotlib.pyplot as plt\n",
        "import numpy as np\n",
        "import seaborn as sns\n",
        "from sklearn.linear_model import LinearRegression\n",
        "from sklearn.metrics import mean_squared_error, r2_score"
      ]
    },
    {
      "cell_type": "markdown",
      "source": [
        "## READING THE DATASET"
      ],
      "metadata": {
        "id": "XufCnfpK7D9z"
      }
    },
    {
      "cell_type": "code",
      "source": [
        "df=pd.read_csv(\"final_merged_file.csv\")"
      ],
      "metadata": {
        "id": "uMcIEpj_1zTV"
      },
      "execution_count": null,
      "outputs": []
    },
    {
      "cell_type": "markdown",
      "source": [],
      "metadata": {
        "id": "_iqBz31262Y9"
      }
    },
    {
      "cell_type": "code",
      "source": [
        "df"
      ],
      "metadata": {
        "id": "C9AtQ4v717vB"
      },
      "execution_count": null,
      "outputs": []
    },
    {
      "cell_type": "code",
      "source": [
        "sns.boxplot(df)"
      ],
      "metadata": {
        "id": "4j6trM6Y1916"
      },
      "execution_count": null,
      "outputs": []
    },
    {
      "cell_type": "markdown",
      "source": [
        "## FINDING THE CORRELATION WITH THE COLUMNS"
      ],
      "metadata": {
        "id": "aoF4BQHi7KIS"
      }
    },
    {
      "cell_type": "code",
      "source": [
        "df.corr()"
      ],
      "metadata": {
        "id": "XMVvHJqB2Cg6"
      },
      "execution_count": null,
      "outputs": []
    },
    {
      "cell_type": "code",
      "source": [
        "df['el_power_predicted']=0.0"
      ],
      "metadata": {
        "id": "hufKZKnx2TJk"
      },
      "execution_count": null,
      "outputs": []
    },
    {
      "cell_type": "code",
      "source": [
        "df.columns"
      ],
      "metadata": {
        "id": "SdZZFs263PJt"
      },
      "execution_count": null,
      "outputs": []
    },
    {
      "cell_type": "markdown",
      "source": [
        "## TRAINING MODEL CREATION"
      ],
      "metadata": {
        "id": "KSWzowHU86OW"
      }
    },
    {
      "cell_type": "markdown",
      "source": [
        "### SIMPLE MODEL WITHOUT VALIDATION SET"
      ],
      "metadata": {
        "id": "zcA82xlg8_Dd"
      }
    },
    {
      "cell_type": "code",
      "source": [
        "X=df[['el_power']]\n",
        "y=df['input_voltage']\n",
        "model=LinearRegression()\n",
        "model.fit(X,y)\n",
        "df['el_power_predicted']=model.predict(X)\n",
        "print(\"Intercept is : \", model.intercept_)\n",
        "print(\"Coefficient is : \", model.coef_)"
      ],
      "metadata": {
        "id": "JC9ptDZO3etr"
      },
      "execution_count": null,
      "outputs": []
    },
    {
      "cell_type": "code",
      "source": [
        "df"
      ],
      "metadata": {
        "id": "B22TxPCF71Eh"
      },
      "execution_count": null,
      "outputs": []
    },
    {
      "cell_type": "markdown",
      "source": [
        "### VISUALIZING IT AND CALCULATING RMSE AND R2 SCORE"
      ],
      "metadata": {
        "id": "LInalDbY9HQq"
      }
    },
    {
      "cell_type": "code",
      "source": [
        "plt.figure(figsize=(10,6))\n",
        "sns.regplot(x='el_power', y='input_voltage', data=df,color='green')\n",
        "plt.title('Linear Regression: Input Voltage vs. Electrical Power')\n",
        "plt.xlabel('Electrical Power')\n",
        "plt.ylabel('Input Voltage')\n",
        "plt.show()"
      ],
      "metadata": {
        "id": "0AN5bO_n42bP"
      },
      "execution_count": null,
      "outputs": []
    },
    {
      "cell_type": "code",
      "source": [
        "y_pred = model.predict(X)\n",
        "rmse = np.sqrt(mean_squared_error(y, y_pred))\n",
        "print(f\"Root Mean Squared Error (RMSE): {rmse}\")\n",
        "r2 = r2_score(y, y_pred)\n",
        "print(f\"R-squared (R2): {r2}\")"
      ],
      "metadata": {
        "id": "O0lAJQx_5QAD"
      },
      "execution_count": null,
      "outputs": []
    },
    {
      "cell_type": "markdown",
      "source": [
        "## TESTING THE ABOVE MODEL"
      ],
      "metadata": {
        "id": "TdDQ4FlZ9h9x"
      }
    },
    {
      "cell_type": "code",
      "source": [
        "df1=pd.read_csv(\"combined_test_dataset.csv\")"
      ],
      "metadata": {
        "id": "WWmA84gi5-40"
      },
      "execution_count": null,
      "outputs": []
    },
    {
      "cell_type": "markdown",
      "source": [
        "### VISUALIZING AND CALCULATING RMSE AND R2 SCORE\n"
      ],
      "metadata": {
        "id": "JlF2Xj5r9mfr"
      }
    },
    {
      "cell_type": "code",
      "source": [
        "X_test = df1[['el_power']]\n",
        "y_test = df1['input_voltage']\n",
        "y_pred_test = model.predict(X_test)\n",
        "plt.figure(figsize=(10, 6))\n",
        "sns.scatterplot(x=X_test['el_power'], y=y_test, label='Actual')\n",
        "sns.scatterplot(x=X_test['el_power'], y=y_pred_test, label='Predicted', marker='x')\n",
        "plt.plot(X_test['el_power'], y_pred_test, color='red', linewidth=1)\n",
        "plt.title('Linear Regression: Input Voltage vs. Electrical Power (Test Data)')\n",
        "plt.xlabel('Electrical Power')\n",
        "plt.ylabel('Input Voltage')\n",
        "plt.legend()\n",
        "plt.show()\n",
        "rmse_test = np.sqrt(mean_squared_error(y_test, y_pred_test))\n",
        "print(f\"Root Mean Squared Error (RMSE) for Test Data: {rmse_test}\")\n",
        "\n",
        "r2_test = r2_score(y_test, y_pred_test)\n",
        "print(f\"R-squared (R2) for Test Data: {r2_test}\")"
      ],
      "metadata": {
        "id": "KJphGBsH52tS"
      },
      "execution_count": null,
      "outputs": []
    },
    {
      "cell_type": "markdown",
      "source": [
        "## RESULT"
      ],
      "metadata": {
        "id": "RxWybtIi-Y65"
      }
    },
    {
      "cell_type": "markdown",
      "source": [
        "Root Mean Squared Error (RMSE) for Test Data: 1.3409505044240877\n",
        "R-squared (R2) for Test Data: 0.7770276643417563\n",
        "Root Mean Squared Error (RMSE): 1.279181454280843\n",
        "R-squared (R2): 0.7832737656130924"
      ],
      "metadata": {
        "id": "SP85VzAy-de6"
      }
    },
    {
      "cell_type": "markdown",
      "source": [
        "## TRAINING THE MODEL WITH TRAIN AND VALIDATION SET"
      ],
      "metadata": {
        "id": "D8JvFJLDAjO5"
      }
    },
    {
      "cell_type": "code",
      "source": [
        "X = df[['el_power']]\n",
        "y = df['input_voltage']\n",
        "X_train, X_val, y_train, y_val = train_test_split(X, y, test_size=0.25, random_state=42)\n",
        "model = LinearRegression()\n",
        "model.fit(X_train, y_train)\n",
        "y_pred_val = model.predict(X_val)\n",
        "rmse_val = np.sqrt(mean_squared_error(y_val, y_pred_val))\n",
        "r2_val = r2_score(y_val, y_pred_val)\n",
        "print(f\"Validation RMSE: {rmse_val}\")\n",
        "print(f\"Validation R-squared: {r2_val}\")\n",
        "plt.figure(figsize=(10, 6))\n",
        "sns.scatterplot(x=X_val['el_power'], y=y_val, label='Actual')\n",
        "sns.scatterplot(x=X_val['el_power'], y=y_pred_val, label='Predicted', marker='x')\n",
        "plt.plot(X_val['el_power'], y_pred_val, color='red', linewidth=1)\n",
        "plt.title('Linear Regression: Input Voltage vs. Electrical Power (Validation Data)')\n",
        "plt.xlabel('Electrical Power')\n",
        "plt.ylabel('Input Voltage')\n",
        "plt.legend()\n",
        "plt.show()"
      ],
      "metadata": {
        "id": "fNWGQkIe9tTs"
      },
      "execution_count": null,
      "outputs": []
    },
    {
      "cell_type": "markdown",
      "source": [
        "## TESTING THE MODEL"
      ],
      "metadata": {
        "id": "uqNaHJHxAuY5"
      }
    },
    {
      "cell_type": "code",
      "source": [
        "X_test = df1[['el_power']]\n",
        "y_test = df1['input_voltage']\n",
        "y_pred_test = model.predict(X_test)\n",
        "plt.figure(figsize=(10, 6))\n",
        "sns.scatterplot(x=X_test['el_power'], y=y_test, label='Actual')\n",
        "sns.scatterplot(x=X_test['el_power'], y=y_pred_test, label='Predicted', marker='x')\n",
        "plt.plot(X_test['el_power'], y_pred_test, color='red', linewidth=1)\n",
        "plt.title('Linear Regression: Input Voltage vs. Electrical Power (Test Data)')\n",
        "plt.xlabel('Electrical Power')\n",
        "plt.ylabel('Input Voltage')\n",
        "plt.legend()\n",
        "plt.show()\n",
        "rmse_test = np.sqrt(mean_squared_error(y_test, y_pred_test))\n",
        "print(f\"Root Mean Squared Error (RMSE) for Test Data: {rmse_test}\")\n",
        "r2_test = r2_score(y_test, y_pred_test)\n",
        "print(f\"R-squared (R2) for Test Data: {r2_test}\")"
      ],
      "metadata": {
        "id": "TMq3yFZG_ZoV"
      },
      "execution_count": null,
      "outputs": []
    },
    {
      "cell_type": "markdown",
      "source": [
        "## RESULTS"
      ],
      "metadata": {
        "id": "7Y7JLJXTAxJI"
      }
    },
    {
      "cell_type": "markdown",
      "source": [
        "Root Mean Squared Error (RMSE) for Test Data: 1.3410588636671728\n",
        "\n",
        "R-squared (R2) for Test Data: 0.776991627083641\n",
        "\n",
        "Validation RMSE: 1.267224998824096\n",
        "\n",
        "Validation R-squared: 0.7871424058520148"
      ],
      "metadata": {
        "id": "CJwbhM-kAzpi"
      }
    },
    {
      "cell_type": "markdown",
      "source": [
        "## CONCLUSION"
      ],
      "metadata": {
        "id": "w8c4HJdDA9dl"
      }
    },
    {
      "cell_type": "markdown",
      "source": [
        "THE ABOVE MODEL SCORES WITH AND WITHOUT VALIDATION TEST SET PERFORMS POORLY WITH COMPARISION TO OTHER MODELS HENCE THIS SHOULD BE NEGLECTED AND SHOULD NOT BE COUNTED"
      ],
      "metadata": {
        "id": "TkyWTlEWBCbl"
      }
    }
  ]
}